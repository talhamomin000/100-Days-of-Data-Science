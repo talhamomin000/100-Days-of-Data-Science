{
 "cells": [
  {
   "cell_type": "code",
   "execution_count": 1,
   "id": "fd8c3731",
   "metadata": {},
   "outputs": [],
   "source": [
    "import numpy as np"
   ]
  },
  {
   "cell_type": "code",
   "execution_count": 2,
   "id": "0866194f",
   "metadata": {},
   "outputs": [
    {
     "name": "stdout",
     "output_type": "stream",
     "text": [
      "[1 2 3 4]\n",
      "<class 'numpy.ndarray'>\n"
     ]
    }
   ],
   "source": [
    "arr = np.array([1,2,3,4])\n",
    "print(arr)\n",
    "print(type(arr))"
   ]
  },
  {
   "cell_type": "code",
   "execution_count": 3,
   "id": "73e6ad85",
   "metadata": {},
   "outputs": [
    {
     "name": "stdout",
     "output_type": "stream",
     "text": [
      "[1, 2, 3, 4]\n",
      "<class 'list'>\n"
     ]
    }
   ],
   "source": [
    "lst = [1,2,3,4]\n",
    "print(lst)\n",
    "print(type(lst))"
   ]
  },
  {
   "cell_type": "code",
   "execution_count": 4,
   "id": "2f98c055",
   "metadata": {},
   "outputs": [
    {
     "name": "stdout",
     "output_type": "stream",
     "text": [
      "[[1, 2, 3], [4, 5, 6]]\n"
     ]
    }
   ],
   "source": [
    "lst = [[1,2,3],[4,5,6]]\n",
    "print(lst)"
   ]
  },
  {
   "cell_type": "code",
   "execution_count": 12,
   "id": "432cc457",
   "metadata": {},
   "outputs": [
    {
     "name": "stdout",
     "output_type": "stream",
     "text": [
      "1.04 µs ± 26 ns per loop (mean ± std. dev. of 7 runs, 1,000,000 loops each)\n"
     ]
    }
   ],
   "source": [
    "%timeit [j**4 for j in range(1,9)]"
   ]
  },
  {
   "cell_type": "code",
   "execution_count": 13,
   "id": "4a5483dd",
   "metadata": {},
   "outputs": [
    {
     "name": "stdout",
     "output_type": "stream",
     "text": [
      "2.52 µs ± 199 ns per loop (mean ± std. dev. of 7 runs, 100,000 loops each)\n"
     ]
    }
   ],
   "source": [
    "%timeit np.arange(1,9)**4"
   ]
  },
  {
   "cell_type": "code",
   "execution_count": 17,
   "id": "00931bfb",
   "metadata": {},
   "outputs": [
    {
     "name": "stdout",
     "output_type": "stream",
     "text": [
      "[1 2 3 4]\n",
      "<class 'numpy.ndarray'>\n"
     ]
    }
   ],
   "source": [
    "arr = np.array([1,2,3,4])\n",
    "print(arr)\n",
    "print(type(arr))"
   ]
  },
  {
   "cell_type": "code",
   "execution_count": 20,
   "id": "662686e4",
   "metadata": {},
   "outputs": [
    {
     "name": "stdout",
     "output_type": "stream",
     "text": [
      "enter number1\n",
      "enter number2\n",
      "enter number3\n",
      "enter number3\n",
      "[1 2 3 3]\n",
      "1\n"
     ]
    }
   ],
   "source": [
    "l = []\n",
    "for i in range(1,5):\n",
    "    input_ = int(input(\"enter number\"))\n",
    "    l.append(input_)\n",
    "    \n",
    "arr = np.array(l)\n",
    "print(arr)\n",
    "print(arr.ndim)"
   ]
  },
  {
   "cell_type": "code",
   "execution_count": 28,
   "id": "e45e9dc3",
   "metadata": {},
   "outputs": [
    {
     "name": "stdout",
     "output_type": "stream",
     "text": [
      "[[1 2 3]\n",
      " [4 5 6]]\n",
      "2\n"
     ]
    }
   ],
   "source": [
    "arr2 = np.array([[1,2,3],[4,5,6]])\n",
    "print(arr2)\n",
    "print(arr2.ndim)"
   ]
  },
  {
   "cell_type": "code",
   "execution_count": 32,
   "id": "a9bde408",
   "metadata": {},
   "outputs": [
    {
     "name": "stdout",
     "output_type": "stream",
     "text": [
      "[[[ 1  2  3]\n",
      "  [ 4  5  6]]\n",
      "\n",
      " [[ 7  8  9]\n",
      "  [10 11 12]]]\n",
      "3\n",
      "(2, 2, 3)\n"
     ]
    }
   ],
   "source": [
    "arr3 = np.array([[[1,2,3],[4,5,6]],[[7,8,9],[10,11,12]]])\n",
    "print(arr3)\n",
    "print(arr3.ndim)\n",
    "print(arr3.shape)"
   ]
  },
  {
   "cell_type": "code",
   "execution_count": 37,
   "id": "15830519",
   "metadata": {},
   "outputs": [
    {
     "name": "stdout",
     "output_type": "stream",
     "text": [
      "[[[[[[[[[[1 2 3]]]]]]]]]]\n",
      "10\n"
     ]
    }
   ],
   "source": [
    "arr10 = np.array([1,2,3],ndmin=10)\n",
    "print(arr10)\n",
    "print(arr10.ndim)\n"
   ]
  },
  {
   "cell_type": "code",
   "execution_count": 38,
   "id": "8f6d73d0",
   "metadata": {},
   "outputs": [
    {
     "name": "stdout",
     "output_type": "stream",
     "text": [
      "[0. 0. 0.]\n"
     ]
    }
   ],
   "source": [
    "z = np.zeros(3)\n",
    "print(z)"
   ]
  },
  {
   "cell_type": "code",
   "execution_count": 41,
   "id": "62451b3f",
   "metadata": {},
   "outputs": [
    {
     "name": "stdout",
     "output_type": "stream",
     "text": [
      "[[0. 0. 0. 0.]\n",
      " [0. 0. 0. 0.]\n",
      " [0. 0. 0. 0.]]\n"
     ]
    }
   ],
   "source": [
    "z1 = np.zeros((3,4))\n",
    "print(z1)"
   ]
  },
  {
   "cell_type": "code",
   "execution_count": 42,
   "id": "97626506",
   "metadata": {},
   "outputs": [
    {
     "name": "stdout",
     "output_type": "stream",
     "text": [
      "[1. 1. 1. 1.]\n"
     ]
    }
   ],
   "source": [
    "o = np.ones(4)\n",
    "print(o)"
   ]
  },
  {
   "cell_type": "code",
   "execution_count": 44,
   "id": "32422b37",
   "metadata": {},
   "outputs": [
    {
     "name": "stdout",
     "output_type": "stream",
     "text": [
      "[[[1. 1.]\n",
      "  [1. 1.]]\n",
      "\n",
      " [[1. 1.]\n",
      "  [1. 1.]]\n",
      "\n",
      " [[1. 1.]\n",
      "  [1. 1.]]]\n"
     ]
    }
   ],
   "source": [
    "o1 = np.ones(((3,2,2)))\n",
    "print(o1)"
   ]
  },
  {
   "cell_type": "code",
   "execution_count": 45,
   "id": "6cdfc274",
   "metadata": {},
   "outputs": [
    {
     "name": "stdout",
     "output_type": "stream",
     "text": [
      "[1. 1. 1. 1.]\n"
     ]
    }
   ],
   "source": [
    "e = np.empty(4)\n",
    "print(e)"
   ]
  },
  {
   "cell_type": "code",
   "execution_count": 48,
   "id": "fb6df924",
   "metadata": {},
   "outputs": [
    {
     "name": "stdout",
     "output_type": "stream",
     "text": [
      "[1 3 5 7 9]\n"
     ]
    }
   ],
   "source": [
    "r = np.arange(1,10,2)\n",
    "print(r)"
   ]
  },
  {
   "cell_type": "code",
   "execution_count": 55,
   "id": "bbccd65f",
   "metadata": {},
   "outputs": [
    {
     "name": "stdout",
     "output_type": "stream",
     "text": [
      "[[1. 0. 0.]\n",
      " [0. 1. 0.]\n",
      " [0. 0. 1.]]\n"
     ]
    }
   ],
   "source": [
    "d = np.eye(3)\n",
    "print(d)\n"
   ]
  },
  {
   "cell_type": "code",
   "execution_count": 59,
   "id": "8229c3c6",
   "metadata": {},
   "outputs": [
    {
     "name": "stdout",
     "output_type": "stream",
     "text": [
      "[ 0.          3.33333333  6.66666667 10.        ]\n"
     ]
    }
   ],
   "source": [
    "ls = np.linspace(0,10,num =4)\n",
    "print(ls)"
   ]
  },
  {
   "cell_type": "code",
   "execution_count": 65,
   "id": "e76d5c9c",
   "metadata": {},
   "outputs": [
    {
     "name": "stdout",
     "output_type": "stream",
     "text": [
      "[0.33082785 0.29444001 0.66227467 0.1911706 ]\n"
     ]
    }
   ],
   "source": [
    "ran = np.random.rand(4)\n",
    "print(ran)"
   ]
  },
  {
   "cell_type": "code",
   "execution_count": 66,
   "id": "641fe93e",
   "metadata": {},
   "outputs": [
    {
     "name": "stdout",
     "output_type": "stream",
     "text": [
      "[[0.40469983 0.4974173  0.21828203 0.82182155]\n",
      " [0.91929163 0.40527957 0.31887134 0.9520483 ]]\n"
     ]
    }
   ],
   "source": [
    "ran1 = np.random.rand(2,4)\n",
    "print(ran1)"
   ]
  },
  {
   "cell_type": "code",
   "execution_count": 67,
   "id": "bcbda744",
   "metadata": {},
   "outputs": [
    {
     "name": "stdout",
     "output_type": "stream",
     "text": [
      "[0.57627227 1.79186052 0.57790956]\n"
     ]
    }
   ],
   "source": [
    "# randn gives positive and negative both with close to zero\n",
    "x = np.random.randn(3)\n",
    "print(x)"
   ]
  },
  {
   "cell_type": "code",
   "execution_count": 69,
   "id": "3a927adf",
   "metadata": {},
   "outputs": [
    {
     "name": "stdout",
     "output_type": "stream",
     "text": [
      "[0.73710927 0.9176322  0.02413014]\n"
     ]
    }
   ],
   "source": [
    "y = np.random.ranf(3)\n",
    "print(y)"
   ]
  },
  {
   "cell_type": "code",
   "execution_count": 82,
   "id": "e870dbcf",
   "metadata": {},
   "outputs": [
    {
     "name": "stdout",
     "output_type": "stream",
     "text": [
      "[58 71 10 73]\n",
      "<class 'numpy.ndarray'>\n"
     ]
    }
   ],
   "source": [
    "z = np.random.randint(1,100,4)\n",
    "print(z)\n",
    "print(type(z))"
   ]
  },
  {
   "cell_type": "code",
   "execution_count": 84,
   "id": "50054f29",
   "metadata": {},
   "outputs": [
    {
     "name": "stdout",
     "output_type": "stream",
     "text": [
      "float64\n"
     ]
    }
   ],
   "source": [
    "arr = np.array([1.1,2.1,3.0])\n",
    "print(arr.dtype)"
   ]
  },
  {
   "cell_type": "code",
   "execution_count": 85,
   "id": "1ab771db",
   "metadata": {},
   "outputs": [
    {
     "name": "stdout",
     "output_type": "stream",
     "text": [
      "<U1\n"
     ]
    }
   ],
   "source": [
    "str1 = np.array([\"a\",\"b\",\"c\"])\n",
    "print(str1.dtype)"
   ]
  },
  {
   "cell_type": "code",
   "execution_count": 86,
   "id": "76cc8cfa",
   "metadata": {},
   "outputs": [
    {
     "name": "stdout",
     "output_type": "stream",
     "text": [
      "<U11\n"
     ]
    }
   ],
   "source": [
    "mix = np.array([\"1\",\"a\",\"c\",1,2,3])\n",
    "print(mix.dtype)"
   ]
  },
  {
   "cell_type": "code",
   "execution_count": 9,
   "id": "87cfeb4e",
   "metadata": {},
   "outputs": [
    {
     "name": "stdout",
     "output_type": "stream",
     "text": [
      "float64\n",
      "[1. 2. 3.]\n",
      "[b'1' b'2' b'3']\n",
      "|S1\n",
      "[1. 2. 3.]\n"
     ]
    }
   ],
   "source": [
    "import numpy as np\n",
    "x = np.array([1,2,3],dtype = np.float64)\n",
    "print(x.dtype)\n",
    "print(x)\n",
    "\n",
    "y = np.array([1,2,3],dtype = \"S\")\n",
    "print(y)\n",
    "print(y.dtype)\n",
    "\n",
    "new_x = x.astype(\"f\")\n",
    "print(new_x)"
   ]
  },
  {
   "cell_type": "code",
   "execution_count": 18,
   "id": "db9e53db",
   "metadata": {},
   "outputs": [
    {
     "name": "stdout",
     "output_type": "stream",
     "text": [
      "[4 5 6 7]\n",
      "[ 6  8 10 12]\n",
      "[-4 -4 -4 -4]\n"
     ]
    }
   ],
   "source": [
    "#Arithmetic Operators\n",
    "\n",
    "var = np.array([1,2,3,4])\n",
    "var_add = var + 3\n",
    "print(var_add)\n",
    "\n",
    "arr1 = np.array([1,2,3,4])\n",
    "arr2 = np.array([5,6,7,8])\n",
    "\n",
    "# sum_arr = arr1 + arr2\n",
    "sum_arr = np.add(arr1,arr2)\n",
    "diff_arr = np.subtract(arr1,arr2)\n",
    "\n",
    "\n",
    "print(sum_arr)\n",
    "print(diff_arr)\n",
    "\n",
    "\n"
   ]
  },
  {
   "cell_type": "code",
   "execution_count": 19,
   "id": "f9d55100",
   "metadata": {},
   "outputs": [
    {
     "name": "stdout",
     "output_type": "stream",
     "text": [
      "[[2 4 6]\n",
      " [2 4 6]]\n"
     ]
    }
   ],
   "source": [
    "arr2d1 = np.array([[1,2,3],[1,2,3]])\n",
    "arr2d2 = np.array([[1,2,3],[1,2,3]])\n",
    "\n",
    "sum_2d = arr2d1 +arr2d2\n",
    "print(sum_2d)"
   ]
  },
  {
   "cell_type": "code",
   "execution_count": 25,
   "id": "f39aa20c",
   "metadata": {},
   "outputs": [
    {
     "name": "stdout",
     "output_type": "stream",
     "text": [
      "1\n",
      "4\n",
      "0\n",
      "3\n",
      "[1.         1.41421356 1.73205081 2.        ]\n",
      "[ 0.84147098  0.90929743  0.14112001 -0.7568025 ]\n",
      "[ 0.54030231 -0.41614684 -0.9899925  -0.65364362]\n",
      "[ 1  3  6 10]\n"
     ]
    }
   ],
   "source": [
    "arr1 = np.array([1,2,3,4])\n",
    "print(np.min(arr1))\n",
    "print(np.max(arr1))\n",
    "print(np.argmin(arr1))\n",
    "print(np.argmax(arr1))\n",
    "print(np.sqrt(arr1))\n",
    "print(np.sin(arr1))\n",
    "print(np.cos(arr1))\n",
    "print(np.cumsum(arr1))"
   ]
  },
  {
   "cell_type": "code",
   "execution_count": 38,
   "id": "deb5eb15",
   "metadata": {},
   "outputs": [
    {
     "name": "stdout",
     "output_type": "stream",
     "text": [
      "[[1 2 3]\n",
      " [4 5 6]]\n",
      "\n",
      "(2, 3)\n",
      "[[[[[1 2 3 4]]]]]\n",
      "(1, 1, 1, 1, 4)\n",
      "[[[1 2]\n",
      "  [3 4]\n",
      "  [5 6]]]\n",
      "3\n",
      "[1 2 3 4 5 6]\n",
      "1\n"
     ]
    }
   ],
   "source": [
    "#Shape and Reshape\n",
    "\n",
    "import numpy as np\n",
    "\n",
    "#shape\n",
    "arr = np.array([[1,2,3],[4,5,6]])\n",
    "print(arr)\n",
    "print()\n",
    "print(arr.shape)\n",
    "\n",
    "arr2 = np.array([1,2,3,4],ndmin=5)\n",
    "print(arr2)\n",
    "print(arr2.shape)\n",
    "\n",
    "#reshape\n",
    "arr = np.array([1,2,3,4,5,6])\n",
    "x = arr.reshape(1,3,2)\n",
    "print(x)\n",
    "print(x.ndim)\n",
    "\n",
    "one = x.reshape(-1)\n",
    "print(one)\n",
    "print(one.ndim)\n",
    "\n",
    "\n"
   ]
  },
  {
   "cell_type": "code",
   "execution_count": 3,
   "id": "adfef11e",
   "metadata": {},
   "outputs": [
    {
     "name": "stdout",
     "output_type": "stream",
     "text": [
      "[1 2 3]\n",
      "[[1]\n",
      " [2]\n",
      " [3]]\n",
      "[[2 3 4]\n",
      " [3 4 5]\n",
      " [4 5 6]]\n"
     ]
    }
   ],
   "source": [
    "# Broadcasting\n",
    "\n",
    "import numpy as np\n",
    "\n",
    "# arr1 = np.array([1,2,3])\n",
    "# arr2 = np.array([1,2,3,4])\n",
    "# print(arr1+arr2)\n",
    "\n",
    "arr1 = np.array([1,2,3])\n",
    "arr2 = np.array([[1],[2],[3]])\n",
    "print(arr1)\n",
    "print(arr2)\n",
    "\n",
    "add = arr1 + arr2\n",
    "print(add)"
   ]
  },
  {
   "cell_type": "code",
   "execution_count": 14,
   "id": "8daf37e2",
   "metadata": {},
   "outputs": [
    {
     "name": "stdout",
     "output_type": "stream",
     "text": [
      "2\n",
      "3\n",
      "5\n",
      "[2 3 4 5]\n",
      "[2 3 4 5 6]\n",
      "[1 2 3 4 5]\n",
      "[1 3 5]\n",
      "[6 5 4 3 2 1]\n",
      "[4 5 6]\n"
     ]
    }
   ],
   "source": [
    "# Indexing and Slicing\n",
    "\n",
    "arr1 = np.array([1,2,3])\n",
    "print(arr1[1])\n",
    "\n",
    "arr2 = np.array([[1,2,3],[4,5,6]])\n",
    "print(arr2[0,2])\n",
    "\n",
    "arr3 = np.array([[[1,2],[4,5]]])\n",
    "print(arr3[0,1,1])\n",
    "\n",
    "arr4 = np.array([1,2,3,4,5,6])\n",
    "print(arr4[1:5])\n",
    "print(arr4[1:])\n",
    "print(arr4[:5])\n",
    "print(arr4[::2])\n",
    "print(arr4[::-1])\n",
    "\n",
    "arr5 = np.array([[1,2,3],[4,5,6]])\n",
    "print(arr5[1,0:])"
   ]
  },
  {
   "cell_type": "code",
   "execution_count": 21,
   "id": "6c474790",
   "metadata": {},
   "outputs": [
    {
     "name": "stdout",
     "output_type": "stream",
     "text": [
      "[1 2 3 4 5 6]\n",
      "1\n",
      "2\n",
      "3\n",
      "4\n",
      "5\n",
      "6\n",
      "[[1 2 3]\n",
      " [4 5 6]]\n",
      "1\n",
      "2\n",
      "3\n",
      "4\n",
      "5\n",
      "6\n",
      "[[[1 2 3]\n",
      "  [4 5 6]]]\n",
      "1\n",
      "2\n",
      "3\n",
      "4\n",
      "5\n",
      "6\n",
      "(0, 0, 0) 1\n",
      "(0, 0, 1) 2\n",
      "(0, 0, 2) 3\n",
      "(0, 1, 0) 4\n",
      "(0, 1, 1) 5\n",
      "(0, 1, 2) 6\n"
     ]
    }
   ],
   "source": [
    "arr1 = np.array([1,2,3,4,5,6])\n",
    "print(arr1)\n",
    "\n",
    "for i in arr1:\n",
    "    print(i)\n",
    "    \n",
    "arr2 = np.array([[1,2,3],[4,5,6]])\n",
    "print(arr2)\n",
    "\n",
    "for i in arr2:\n",
    "    for j in i:\n",
    "        print(j)\n",
    "    \n",
    "arr3 = np.array([[[1,2,3],[4,5,6]]])\n",
    "print(arr3)\n",
    "\n",
    "for i in np.nditer(arr3):\n",
    "    print(i)\n",
    "    \n",
    "for i,d in np.ndenumerate(arr3):\n",
    "    print(i,d)"
   ]
  },
  {
   "cell_type": "code",
   "execution_count": 26,
   "id": "222b28e2",
   "metadata": {},
   "outputs": [
    {
     "name": "stdout",
     "output_type": "stream",
     "text": [
      "[1 2 3]\n",
      "[1 2 3]\n",
      "[1 2 3]\n",
      "[11  2  3]\n",
      "[11  2  3]\n"
     ]
    }
   ],
   "source": [
    "# Copy and View \n",
    "\n",
    "arr = np.array([1,2,3])\n",
    "arr_copy = arr.copy()\n",
    "print(arr)\n",
    "print(arr_copy)\n",
    "\n",
    "arr[0] = 11\n",
    "print(arr_copy)\n",
    "\n",
    "arr_view = arr.view()\n",
    "print(arr)\n",
    "print(arr_view)"
   ]
  },
  {
   "cell_type": "code",
   "execution_count": 34,
   "id": "09efb497",
   "metadata": {},
   "outputs": [
    {
     "name": "stdout",
     "output_type": "stream",
     "text": [
      "[1 2 3 4 5 6]\n",
      "[array([1, 2]), array([3, 4]), array([5, 6])]\n",
      "[array([[1, 2]]), array([[3, 4]]), array([[5, 6]])]\n"
     ]
    }
   ],
   "source": [
    "# Joining and Split\n",
    "# arr1 = np.array([1,2,3])\n",
    "# arr2 = np.array([4,5,6])\n",
    "\n",
    "# new_arr = np.concatenate((arr1,arr2))\n",
    "# print(new_arr)\n",
    "\n",
    "# arr1 = np.array([[1,2,3],[8,9,10]])\n",
    "# arr2 = np.array([[4,5,6],[11,12,13]])\n",
    "# new_arr = np.concatenate((arr1,arr2),axis = 1)\n",
    "# print(new_arr)\n",
    "\n",
    "\n",
    "# arr1 = np.array([1,2,3])\n",
    "# arr2 = np.array([4,5,6])\n",
    "# new_stack = np.stack((arr1,arr2),axis=0)\n",
    "# new_stack1 = np.hstack((arr1,arr2))\n",
    "# new_stack2 = np.vstack((arr1,arr2))\n",
    "# new_stack3 = np.dstack((arr1,arr2))\n",
    "\n",
    "\n",
    "# print(new_stack)\n",
    "# print(new_stack1)\n",
    "# print(new_stack2)\n",
    "# print(new_stack3)\n",
    "\n",
    "\n",
    "arr1 = np.array([1,2,3,4,5,6])\n",
    "print(arr1)\n",
    "\n",
    "new_arr = np.split(arr1,3)\n",
    "print(new_arr)\n",
    "\n",
    "arr2 = np.array([[1,2],[3,4],[5,6]])\n",
    "new_arr = np.split(arr2,3)\n",
    "print(new_arr)\n"
   ]
  },
  {
   "cell_type": "code",
   "execution_count": 38,
   "id": "f84342a6",
   "metadata": {},
   "outputs": [
    {
     "name": "stdout",
     "output_type": "stream",
     "text": [
      "(array([1, 6], dtype=int64),)\n",
      "(array([3, 4, 9], dtype=int64),)\n",
      "[1 1 2 2 3 3 4 4 5 6]\n"
     ]
    }
   ],
   "source": [
    "# numpy functions - search, sort, filter\n",
    "arr1 = np.array([1,2,3,4,5,6,2,1,3,4])\n",
    "x = np.where(arr1==2)\n",
    "print(x)\n",
    "\n",
    "y = np.where(arr1//2==2)\n",
    "print(y)\n",
    "\n",
    "arr2 = np.array([1,2,3,4,5,6,2,1,3,4])\n",
    "print(np.sort(arr2))\n"
   ]
  },
  {
   "cell_type": "code",
   "execution_count": 46,
   "id": "5e4740d0",
   "metadata": {},
   "outputs": [
    {
     "name": "stdout",
     "output_type": "stream",
     "text": [
      "[2 3 4 1 6 5]\n",
      "(array([1, 2, 3, 4, 5, 6]), array([0, 1, 2, 3, 4, 5], dtype=int64), array([2, 2, 2, 2, 1, 1], dtype=int64))\n",
      "[[1 2 3]\n",
      " [4 5 6]]\n"
     ]
    }
   ],
   "source": [
    "arr1 = np.array([1,2,3,4,5,6])\n",
    "np.random.shuffle(arr1)\n",
    "print(arr1)\n",
    "\n",
    "arr2 = np.array([1,2,3,4,5,6,2,1,3,4])\n",
    "x = np.unique(arr2,return_index=True,return_counts=True)\n",
    "print(x)\n",
    "\n",
    "arr3 = np.array([1,2,3,4,5,6])\n",
    "y = np.resize(arr3,(2,3))\n",
    "print(y)\n",
    "\n",
    "\n",
    "\n",
    "\n"
   ]
  },
  {
   "cell_type": "code",
   "execution_count": 57,
   "id": "ef6f4c71",
   "metadata": {},
   "outputs": [
    {
     "name": "stdout",
     "output_type": "stream",
     "text": [
      "[ 1 10  2  3  4  5 10  6]\n",
      "[[1 2 3]\n",
      " [4 5 6]]\n",
      "[[ 1  2  3]\n",
      " [ 4  5  6]\n",
      " [10 10 10]]\n",
      "[1 2 3 4 5 6 9]\n",
      "[1 2 4 5 6]\n"
     ]
    }
   ],
   "source": [
    "arr1 = np.array([1,2,3,4,5,6])\n",
    "new = np.insert(arr1,(1,5),10)\n",
    "print(new)\n",
    "\n",
    "arr1 = np.array([[1,2,3],[4,5,6]])\n",
    "print(arr1)\n",
    "new = np.insert(arr1,2,10,axis=0)\n",
    "print(new)\n",
    "\n",
    "arr1 = np.array([1,2,3,4,5,6])\n",
    "y = np.append(arr1,9)\n",
    "print(y)\n",
    "\n",
    "z = np.delete(arr1,2)\n",
    "print(z)\n"
   ]
  },
  {
   "cell_type": "code",
   "execution_count": 62,
   "id": "671abade",
   "metadata": {},
   "outputs": [
    {
     "name": "stdout",
     "output_type": "stream",
     "text": [
      "[[1 2 3]\n",
      " [4 5 6]\n",
      " [7 8 9]]\n",
      "<class 'numpy.ndarray'>\n",
      "[[1 2 3]\n",
      " [4 5 6]\n",
      " [7 8 9]]\n",
      "[[ 1  4  9]\n",
      " [16 25 36]\n",
      " [49 64 81]]\n"
     ]
    }
   ],
   "source": [
    "arr1 = np.array([[1,2,3],[4,5,6],[7,8,9]])\n",
    "print(arr1)\n",
    "print(type(arr1))\n",
    "\n",
    "arr2 = np.array([[1,2,3],[4,5,6],[7,8,9]])\n",
    "print(arr2)\n",
    "\n",
    "mul = np.multiply(arr1,arr2)\n",
    "print(mul)"
   ]
  },
  {
   "cell_type": "code",
   "execution_count": 65,
   "id": "ecbe0fc7",
   "metadata": {},
   "outputs": [
    {
     "name": "stdout",
     "output_type": "stream",
     "text": [
      "[[1 2 3]\n",
      " [4 5 6]\n",
      " [7 8 9]]\n",
      "<class 'numpy.matrix'>\n",
      "[[ 30  36  42]\n",
      " [ 66  81  96]\n",
      " [102 126 150]]\n"
     ]
    }
   ],
   "source": [
    "mat1 = np.matrix([[1,2,3],[4,5,6],[7,8,9]])\n",
    "print(mat1)\n",
    "print(type(mat1))\n",
    "\n",
    "mat2 = np.matrix([[1,2,3],[4,5,6],[7,8,9]])\n",
    "mul = mat1.dot(mat2)\n",
    "print(mul)"
   ]
  },
  {
   "cell_type": "code",
   "execution_count": null,
   "id": "5733ccc5",
   "metadata": {},
   "outputs": [],
   "source": []
  }
 ],
 "metadata": {
  "kernelspec": {
   "display_name": "Python 3 (ipykernel)",
   "language": "python",
   "name": "python3"
  },
  "language_info": {
   "codemirror_mode": {
    "name": "ipython",
    "version": 3
   },
   "file_extension": ".py",
   "mimetype": "text/x-python",
   "name": "python",
   "nbconvert_exporter": "python",
   "pygments_lexer": "ipython3",
   "version": "3.11.5"
  }
 },
 "nbformat": 4,
 "nbformat_minor": 5
}
